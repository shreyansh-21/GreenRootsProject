{
  "nbformat": 4,
  "nbformat_minor": 0,
  "metadata": {
    "colab": {
      "provenance": []
    },
    "kernelspec": {
      "name": "python3",
      "display_name": "Python 3"
    },
    "language_info": {
      "name": "python"
    }
  },
  "cells": [
    {
      "cell_type": "code",
      "execution_count": null,
      "metadata": {
        "id": "xQb_8MMtMcID"
      },
      "outputs": [],
      "source": [
        "import pandas as pd\n",
        "import numpy as np\n",
        "import matplotlib as mpl\n",
        "import matplotlib.pyplot as plt\n",
        "from sklearn.model_selection import train_test_split\n",
        "from sklearn.metrics import confusion_matrix, precision_score, recall_score, accuracy_score, f1_score, classification_report, roc_curve, auc\n",
        "from sklearn.utils import resample\n",
        "\n",
        "import tensorflow as tf\n",
        "from tensorflow import keras\n",
        "print(\"Num GPUs Available: \", len(tf.config.list_physical_devices('GPU')))\n",
        "print(tf.config.list_physical_devices('GPU'))"
      ]
    },
    {
      "cell_type": "code",
      "source": [
        "!pip install pyrsgis\n",
        "!pip install matplotlib_scalebar\n",
        "from pyrsgis import raster\n",
        "from pyrsgis.convert import array_to_table"
      ],
      "metadata": {
        "id": "Ic9zDnf86GGH",
        "colab": {
          "base_uri": "https://localhost:8080/"
        },
        "outputId": "1fe85f0c-d8ea-4617-b686-aa2f6e90357a"
      },
      "execution_count": null,
      "outputs": [
        {
          "output_type": "stream",
          "name": "stdout",
          "text": [
            "Collecting pyrsgis\n",
            "  Downloading pyrsgis-0.4.1-py3-none-any.whl (25 kB)\n",
            "Installing collected packages: pyrsgis\n",
            "Successfully installed pyrsgis-0.4.1\n",
            "Collecting matplotlib_scalebar\n",
            "  Downloading matplotlib_scalebar-0.8.1-py2.py3-none-any.whl (17 kB)\n",
            "Requirement already satisfied: matplotlib in /usr/local/lib/python3.10/dist-packages (from matplotlib_scalebar) (3.7.1)\n",
            "Requirement already satisfied: contourpy>=1.0.1 in /usr/local/lib/python3.10/dist-packages (from matplotlib->matplotlib_scalebar) (1.2.0)\n",
            "Requirement already satisfied: cycler>=0.10 in /usr/local/lib/python3.10/dist-packages (from matplotlib->matplotlib_scalebar) (0.12.1)\n",
            "Requirement already satisfied: fonttools>=4.22.0 in /usr/local/lib/python3.10/dist-packages (from matplotlib->matplotlib_scalebar) (4.49.0)\n",
            "Requirement already satisfied: kiwisolver>=1.0.1 in /usr/local/lib/python3.10/dist-packages (from matplotlib->matplotlib_scalebar) (1.4.5)\n",
            "Requirement already satisfied: numpy>=1.20 in /usr/local/lib/python3.10/dist-packages (from matplotlib->matplotlib_scalebar) (1.25.2)\n",
            "Requirement already satisfied: packaging>=20.0 in /usr/local/lib/python3.10/dist-packages (from matplotlib->matplotlib_scalebar) (23.2)\n",
            "Requirement already satisfied: pillow>=6.2.0 in /usr/local/lib/python3.10/dist-packages (from matplotlib->matplotlib_scalebar) (9.4.0)\n",
            "Requirement already satisfied: pyparsing>=2.3.1 in /usr/local/lib/python3.10/dist-packages (from matplotlib->matplotlib_scalebar) (3.1.1)\n",
            "Requirement already satisfied: python-dateutil>=2.7 in /usr/local/lib/python3.10/dist-packages (from matplotlib->matplotlib_scalebar) (2.8.2)\n",
            "Requirement already satisfied: six>=1.5 in /usr/local/lib/python3.10/dist-packages (from python-dateutil>=2.7->matplotlib->matplotlib_scalebar) (1.16.0)\n",
            "Installing collected packages: matplotlib_scalebar\n",
            "Successfully installed matplotlib_scalebar-0.8.1\n"
          ]
        }
      ]
    },
    {
      "cell_type": "code",
      "source": [
        "main_bands = [i+1 for i in range(0,7)]\n",
        "ndvi_band = 9\n",
        "labels_band = 8\n",
        "\n",
        "# choose the input band(s)\n",
        "# input_bands = ndvi_band\n",
        "input_bands = main_bands\n",
        "\n",
        "print('Analyzing bands: ', input_bands)\n",
        "\n",
        "# store the number of bands, which will be useful for inputting to the neural network later\n",
        "if input_bands == ndvi_band: nBands = 1\n",
        "else: nBands = len(main_bands)\n",
        "print('nBands: ', nBands)\n",
        "\n",
        "\n",
        "downsampleMajority = False"
      ],
      "metadata": {
        "colab": {
          "base_uri": "https://localhost:8080/"
        },
        "id": "YYuvzmN46HqH",
        "outputId": "d2cb0549-6b8e-4118-9c07-ab780a351933"
      },
      "execution_count": null,
      "outputs": [
        {
          "output_type": "stream",
          "name": "stdout",
          "text": [
            "Analyzing bands:  [1, 2, 3, 4, 5, 6, 7]\n",
            "nBands:  7\n"
          ]
        }
      ]
    },
    {
      "cell_type": "code",
      "source": [
        "def removeOuterEdges(x):\n",
        "    '''Something is off with the top row in the satellite data, and sometimes the other edges, remove them.'''\n",
        "    if x.ndim == 2:\n",
        "        x = np.delete(x, [0, x.shape[0]-1], axis=0) # remove top and bottom edges\n",
        "        x = np.delete(x, [0, x.shape[1]-1], axis=1) # remove left and right edges\n",
        "    else:\n",
        "        x = np.delete(x, [0, x.shape[1]-1], axis=1) # remove top and bottom edges\n",
        "        x = np.delete(x, [0, x.shape[2]-1], axis=2) # remove left and right edges\n",
        "\n",
        "    return x\n",
        "\n",
        "def normalizeBand(band):\n",
        "    '''normalize band inputs to 0-1 for input into neural nets'''\n",
        "    band_min, band_max = band.min(), band.max()\n",
        "    return ((band - band_min)/(band_max - band_min))\n",
        "\n",
        "def normalizeUInt16Band(band):\n",
        "    '''Bands 1-7 are uint16, ranging from 0-65535, normalize them by dividing by the max.'''\n",
        "    return band/65535."
      ],
      "metadata": {
        "id": "g2iHA5556Ljw"
      },
      "execution_count": null,
      "outputs": []
    },
    {
      "cell_type": "code",
      "source": [
        "# methods related to plotting - should be moved out into a separate file\n",
        "\n",
        "# define colormap for plots\n",
        "discrete_cmap = mpl.colors.ListedColormap([\"red\", \"cornflowerblue\", \"gold\", \"olivedrab\"], name=\"discrete_cmap\")\n",
        "vmin=-1\n",
        "vmax=2\n",
        "\n",
        "def plotNVDIBand(input_data):\n",
        "    plt.figure(figsize=(24,6))\n",
        "    plt.imshow(input_data, cmap='RdYlGn', vmin=-1, vmax=1)\n",
        "    plt.colorbar()\n",
        "    plt.show()\n",
        "\n",
        "def plotMangroveBand(input_data):\n",
        "    plt.figure(figsize=(16,6))\n",
        "    plt.imshow(input_data, cmap=discrete_cmap, vmin=vmin, vmax=vmax)\n",
        "    # plt.colorbar()\n",
        "    plt.show()\n",
        "\n",
        "def plotDifference(labels_data, predicted_data):\n",
        "    '''\n",
        "    Plot difference in predicted (or future predicted) mangroves and labeled (past) mangroves.\n",
        "    # multiply first array by 2 in order to get 4 values for difference plot:\n",
        "    # pred - label -> output\n",
        "    # 0 - 0 -> 0, predicted and label/past are not mangroves\n",
        "    # 1 - 1 -> 1, predicted and label/past are mangroves\n",
        "    # 1 - 0 -> 2, predicted was mangrove, label/past was not -> growth/false positive\n",
        "    # 0 - 1 -> 0, predicted was not mangrove, label/past was -> loss/false negative\n",
        "    '''\n",
        "\n",
        "    image_difference = 2 * predicted_data - labels_data\n",
        "    plt.figure(figsize=(24,6))\n",
        "    plt.imshow(image_difference, cmap=discrete_cmap, vmin=vmin, vmax=vmax)\n",
        "    plt.colorbar()\n",
        "    plt.show()"
      ],
      "metadata": {
        "id": "6mkgQJaf6O2w"
      },
      "execution_count": null,
      "outputs": []
    },
    {
      "cell_type": "code",
      "source": [
        "def printClassificationMetrics(y_actual, y_predicted_prob, input_prob=0.5):\n",
        "    '''Print various classification metrics.'''\n",
        "\n",
        "    y_predicted = (y_predicted_prob > input_prob).astype(int) # convert prediction probabilities to 0 or 1 values depending on threshold\n",
        "    cMatrix = confusion_matrix(y_actual, y_predicted)\n",
        "    pScore = precision_score(y_actual, y_predicted)\n",
        "    rScore = recall_score(y_actual, y_predicted)\n",
        "    aScore = accuracy_score(y_actual, y_predicted)\n",
        "    f1Score = f1_score(y_actual, y_predicted)\n",
        "\n",
        "    print(\"Confusion matrix:\\n\", cMatrix)\n",
        "    print(\"\\nP-Score: %.3f, R-Score: %.3f\" % (pScore, rScore))\n",
        "    print('Accuracy: %.3f' % (aScore))\n",
        "    print('f1: %.3f' % (f1Score))\n",
        "\n",
        "    print(classification_report(y_actual, y_predicted))\n",
        "\n",
        "def makeROCPlot(y_actual, y_predicted_prob):\n",
        "    fpr, tpr, thresholds = roc_curve(y_actual, y_predicted_prob)\n",
        "    auc_score = auc(fpr, tpr)\n",
        "\n",
        "    plt.figure(1)\n",
        "    plt.plot([0, 1], [0, 1], 'k--')\n",
        "    plt.plot(fpr, tpr, label='AUC = {:.3f}'.format(auc_score))\n",
        "    plt.xlabel('False positive rate')\n",
        "    plt.ylabel('True positive rate')\n",
        "    plt.title('ROC curve')\n",
        "    plt.legend(loc='best')\n",
        "    plt.show()"
      ],
      "metadata": {
        "id": "b5NkCCkc6RzI"
      },
      "execution_count": null,
      "outputs": []
    },
    {
      "cell_type": "code",
      "source": [
        "# method for predicting on an image with the trained model\n",
        "def predictOnImage(model, image):\n",
        "  '''Take trained model and apply it to a new image.'''\n",
        "  # read in band data\n",
        "  ds_features_new, features_new = raster.read(image, bands=input_bands)\n",
        "  ds_labels_new, labels_new = raster.read(image, bands=labels_band)\n",
        "\n",
        "  # remove outer edges of data (which sometimes have issues)\n",
        "  features_new = removeOuterEdges(features_new)\n",
        "  labels_new = removeOuterEdges(labels_new)\n",
        "\n",
        "  # fill NaNs with 0s\n",
        "  features_new = np.nan_to_num(features_new)\n",
        "  labels_new = np.nan_to_num(labels_new)\n",
        "\n",
        "  # change label from float to int\n",
        "  labels_new = (labels_new == 1).astype(int)\n",
        "\n",
        "  # print('Check shapes:', features_new.shape, labels_new.shape)\n",
        "\n",
        "  # plot NDVI band (if using it)\n",
        "  if input_bands == ndvi_band:\n",
        "    print('\\nNDVI band:')\n",
        "    plotNVDIBand(features_new)\n",
        "\n",
        "  # plot Mangrove band\n",
        "  print('\\nLabel mangroves from 2000 data:')\n",
        "  plotMangroveBand(labels_new)\n",
        "\n",
        "  # change dimensions of input\n",
        "  features_new_input = array_to_table(features_new)\n",
        "  labels_new_input = array_to_table(labels_new)\n",
        "\n",
        "  # reshape it as an additional step for input into the NN\n",
        "  features_new_input = features_new_input.reshape((features_new_input.shape[0], 1, nBands))\n",
        "  # print('Check transformed shapes:', features_new_input.shape, labels_new_input.shape)\n",
        "\n",
        "  # normalize bands for new image if using the main bands\n",
        "  if input_bands == main_bands:\n",
        "    features_new_input = normalizeUInt16Band(features_new_input)\n",
        "\n",
        "  # predict on new image\n",
        "  predicted_new_image_prob = model.predict(features_new_input)\n",
        "  predicted_new_image_prob = predicted_new_image_prob[:,1]\n",
        "\n",
        "  # print classification metrics\n",
        "  probThresh = 0.5\n",
        "  printClassificationMetrics(labels_new_input, predicted_new_image_prob, probThresh)\n",
        "  makeROCPlot(labels_new_input, predicted_new_image_prob)\n",
        "\n",
        "  # reshape prediction into 2D for plotting\n",
        "  predicted_new_image_aboveThresh = (predicted_new_image_prob > probThresh).astype(int)\n",
        "  prediction_new_image_2d = np.reshape(predicted_new_image_aboveThresh, (ds_labels_new.RasterYSize-2, ds_labels_new.RasterXSize-2)) # need the -2s since I removed the outer edges\n",
        "\n",
        "  # plot predicted mangroves\n",
        "  print('\\nPredicted mangroves:')\n",
        "  plotMangroveBand(prediction_new_image_2d)\n",
        "\n",
        "  # plot difference in predicted and labeled, or future vs past labeled\n",
        "  print('\\nDifference between predicted and labeled mangroves:')\n",
        "  plotDifference(labels_new, prediction_new_image_2d)"
      ],
      "metadata": {
        "id": "JjzNzu9a6UM4"
      },
      "execution_count": null,
      "outputs": []
    },
    {
      "cell_type": "code",
      "source": [
        "# method for loading multiple images as training data (with some portion set aside for testing data with same images)\n",
        "def loadTrainingImages(images_list):\n",
        "    '''Load images from list as training data, separately process each image and then concatenate the numpy arrays of training data.'''\n",
        "\n",
        "    # initialize empty arrays which will concatenate data from all training images\n",
        "    training_image_data = []\n",
        "    training_image_labels = []\n",
        "\n",
        "    for i, image in enumerate(images_list):\n",
        "        # read in band data\n",
        "        ds_features, features = raster.read(image, bands=input_bands)\n",
        "        ds_labels, labels = raster.read(image, bands=labels_band)\n",
        "\n",
        "        # remove outer edges of data (which sometimes have issues)\n",
        "        # features = removeOuterEdges(features)\n",
        "        # labels = removeOuterEdges(labels)\n",
        "\n",
        "        # fill NaNs with 0s\n",
        "        features = np.nan_to_num(features)\n",
        "        labels = np.nan_to_num(labels)\n",
        "\n",
        "        print('Feature shape: ', features.shape)\n",
        "\n",
        "        # make some plots just for the first training image\n",
        "        if i == 0:\n",
        "            if input_bands == ndvi_band:\n",
        "                print('\\nFirst training image NDVI band:')\n",
        "                plotNVDIBand(features) # plot NDVI band\n",
        "            print('\\nFirst training image mangroves from labels: ')\n",
        "            plotMangroveBand(labels) # plot label (mangrove) band\n",
        "\n",
        "        # change dimensions for input into neural net\n",
        "        features_input = array_to_table(features)\n",
        "        labels_input = array_to_table(labels)\n",
        "\n",
        "        # convert labels to int for classification\n",
        "        labels_input = (labels_input == 1).astype(int)\n",
        "\n",
        "        # # Check the number of dimensions of the arrays\n",
        "        # print('Number of dimensions of features_input:', features_input.ndim)\n",
        "        # print('Number of dimensions of labels_input:', labels_input.ndim)\n",
        "\n",
        "        # Ensure both arrays have the same number of dimensions\n",
        "        if features_input.ndim != labels_input.ndim:\n",
        "            # Reshape the labels to match the dimensions of features\n",
        "            labels_input = labels_input.reshape(features_input.shape[:-1])\n",
        "\n",
        "        # append image inputs together\n",
        "        training_image_data.append(features_input)\n",
        "        training_image_labels.append(labels_input)\n",
        "\n",
        "    # Concatenate the lists of arrays into single arrays\n",
        "    features = np.concatenate(training_image_data, axis=0)\n",
        "    labels = np.concatenate(training_image_labels, axis=0)\n",
        "\n",
        "    # check balance of classes\n",
        "    training_data_length = len(features)\n",
        "    print('Using training data of length: ', training_data_length)\n",
        "    print(f\"Class 0: {np.count_nonzero(labels==0)} Class 1: {np.count_nonzero(labels==1)}\")\n",
        "    print(f\"Class 0: {100 * np.count_nonzero(labels==0)/training_data_length : .1f}% Class 1: {100 * np.count_nonzero(labels==1)/training_data_length : .1f}%\")\n",
        "\n",
        "    return features, labels\n"
      ],
      "metadata": {
        "id": "WwvPh3b-AJYv"
      },
      "execution_count": null,
      "outputs": []
    },
    {
      "cell_type": "code",
      "source": [
        "from google.colab import drive\n",
        "drive.mount('/content/drive')"
      ],
      "metadata": {
        "id": "EPSoILXF67vg",
        "colab": {
          "base_uri": "https://localhost:8080/"
        },
        "outputId": "67605599-434e-43b6-d57e-2134e21a6a90"
      },
      "execution_count": null,
      "outputs": [
        {
          "output_type": "stream",
          "name": "stdout",
          "text": [
            "Mounted at /content/drive\n"
          ]
        }
      ]
    },
    {
      "cell_type": "code",
      "source": [
        "ndvi_1999_file_path = '/content/drive/My Drive/NDVI_Images/NDVI_1999.tif'\n",
        "ndvi_2004_file_path = '/content/drive/My Drive/NDVI_Images/NDVI_2004.tif'\n",
        "ndvi_2009_file_path = '/content/drive/My Drive/NDVI_Images/NDVI_2009.tif'\n",
        "ndvi_2014_file_path = '/content/drive/My Drive/NDVI_Images/NDVI_2014.tif'\n",
        "ndvi_2019_file_path = '/content/drive/My Drive/NDVI_Images/NDVI_2019.tif'"
      ],
      "metadata": {
        "id": "nW5898eF660Z"
      },
      "execution_count": null,
      "outputs": []
    },
    {
      "cell_type": "code",
      "source": [
        "training_images = []\n",
        "# append images individually so I can test what happens when I mix up the training data - later on will probably want to glob image paths from the source directory\n",
        "training_images.append(ndvi_1999_file_path)\n",
        "training_images.append(ndvi_2004_file_path)\n",
        "training_images.append(ndvi_2009_file_path)\n",
        "training_images.append(ndvi_2014_file_path)\n",
        "# training_images.append(ndvi_2019_file_path)\n",
        "\n",
        "\n",
        "model_input_data, model_input_labels = loadTrainingImages(training_images)"
      ],
      "metadata": {
        "id": "_UmN5A-d6dQX",
        "colab": {
          "base_uri": "https://localhost:8080/",
          "height": 691
        },
        "outputId": "76345363-e9b0-4ee3-af97-9b74b114f8d4"
      },
      "execution_count": null,
      "outputs": [
        {
          "output_type": "stream",
          "name": "stdout",
          "text": [
            "Feature shape:  (2414, 2559)\n",
            "\n",
            "First training image mangroves from labels: \n"
          ]
        },
        {
          "output_type": "display_data",
          "data": {
            "text/plain": [
              "<Figure size 1600x600 with 1 Axes>"
            ],
            "image/png": "[encoded data removed]"
          },
          "metadata": {}
        },
        {
          "output_type": "stream",
          "name": "stdout",
          "text": [
            "Feature shape:  (2414, 2559)\n",
            "Feature shape:  (2414, 2559)\n",
            "Feature shape:  (2414, 2559)\n",
            "Using training data of length:  24709704\n",
            "Class 0: 24709704 Class 1: 0\n",
            "Class 0:  100.0% Class 1:  0.0%\n"
          ]
        }
      ]
    },
    {
      "cell_type": "code",
      "source": [
        "# Print some additional information about the data\n",
        "print(\"Number of bands:\", nBands)\n",
        "print(\"Size of xTrain:\", xTrain.size)\n",
        "print(\"Size of xTest:\", xTest.size)"
      ],
      "metadata": {
        "colab": {
          "base_uri": "https://localhost:8080/"
        },
        "id": "zJAOnAcUX_Ho",
        "outputId": "e87fc7db-1922-4cca-8369-7220c0e49bc3"
      },
      "execution_count": null,
      "outputs": [
        {
          "output_type": "stream",
          "name": "stdout",
          "text": [
            "Number of bands: 7\n",
            "Size of xTrain: 14825822\n",
            "Size of xTest: 9883882\n"
          ]
        }
      ]
    },
    {
      "cell_type": "code",
      "source": [
        "expected_size_train = xTrain.shape[0] * nBands\n",
        "expected_size_test = xTest.shape[0] * nBands\n",
        "\n",
        "print(\"Expected size of xTrain:\", expected_size_train)\n",
        "print(\"Expected size of xTest:\", expected_size_test)"
      ],
      "metadata": {
        "colab": {
          "base_uri": "https://localhost:8080/"
        },
        "id": "y2lng9TEYFZB",
        "outputId": "61c8f0e0-8ea5-4ae1-c7d1-455a3d670279"
      },
      "execution_count": null,
      "outputs": [
        {
          "output_type": "stream",
          "name": "stdout",
          "text": [
            "Expected size of xTrain: 103780754\n",
            "Expected size of xTest: 69187174\n"
          ]
        }
      ]
    },
    {
      "cell_type": "code",
      "source": [
        "print(\"Shape of model_input_data:\", model_input_data.shape)\n",
        "print(\"Shape of model_input_labels:\", model_input_labels.shape)\n"
      ],
      "metadata": {
        "colab": {
          "base_uri": "https://localhost:8080/"
        },
        "id": "6-nuZOnAYUpR",
        "outputId": "2fe6b5d1-8dce-437d-a365-01dce8903e64"
      },
      "execution_count": null,
      "outputs": [
        {
          "output_type": "stream",
          "name": "stdout",
          "text": [
            "Shape of model_input_data: (24709704,)\n",
            "Shape of model_input_labels: (24709704,)\n"
          ]
        }
      ]
    },
    {
      "cell_type": "code",
      "source": [
        "# Split the data\n",
        "xTrain, xTest, yTrain, yTest = train_test_split(model_input_data, model_input_labels, test_size=0.4, random_state=42, stratify=model_input_labels, shuffle=True)\n",
        "\n",
        "print(xTrain.shape)\n",
        "print(yTrain.shape)\n",
        "print(xTest.shape)\n",
        "print(yTest.shape)\n",
        "\n",
        "# Reshape input data for neural network\n",
        "xTrain = xTrain[:, 0, :]\n",
        "xTest = xTest[:, 0, :]\n",
        "\n",
        "print(xTrain.shape)\n",
        "print(xTest.shape)"
      ],
      "metadata": {
        "colab": {
          "base_uri": "https://localhost:8080/"
        },
        "id": "18jixAVpXvcV",
        "outputId": "61f284e2-cad4-4a75-80f6-ef4c4c6e26b0"
      },
      "execution_count": null,
      "outputs": [
        {
          "output_type": "stream",
          "name": "stdout",
          "text": [
            "(14825822, 1, 1)\n",
            "(14825822, 1)\n",
            "(9883882, 1, 1)\n",
            "(9883882, 1)\n",
            "(14825822, 1)\n",
            "(9883882, 1)\n"
          ]
        }
      ]
    },
    {
      "cell_type": "code",
      "source": [
        "# normalize bands - don't really need to do this for the NDVI band, and probably want to use something separate for the other bands, which are already by default bounded\n",
        "# probably also do not want to normalize differently between the train and test, since their bounds are independent of the samples\n",
        "# xTrain = normalizeBand(xTrain)\n",
        "# xTest = normalizeBand(xTest)\n",
        "\n",
        "# normalize main bands\n",
        "if input_bands == main_bands:\n",
        "  xTrain = normalizeUInt16Band(xTrain)\n",
        "  xTest = normalizeUInt16Band(xTest)"
      ],
      "metadata": {
        "id": "Yxi1bfHr7p4J"
      },
      "execution_count": null,
      "outputs": []
    },
    {
      "cell_type": "code",
      "source": [
        "if input_bands == ndvi_band:\n",
        "  model = keras.Sequential([\n",
        "      keras.layers.Flatten(input_shape=(1, nBands)),\n",
        "      # keras.layers.Dense(10, activation='relu'),\n",
        "      keras.layers.Dense(10, activation='relu'),\n",
        "      keras.layers.Dense(2, activation='softmax')])\n",
        "else:\n",
        "  model = keras.Sequential([\n",
        "    keras.layers.Flatten(input_shape=(1, nBands)),\n",
        "    keras.layers.Dense(14, activation='relu'),\n",
        "    keras.layers.Dense(14, activation='relu'),\n",
        "    keras.layers.Dense(2, activation='softmax')])\n",
        "\n",
        "# Define the accuracy metrics and parameters\n",
        "model.compile(optimizer=\"adam\", loss=\"sparse_categorical_crossentropy\", metrics=[\"accuracy\"])\n",
        "\n",
        "print(model.summary)"
      ],
      "metadata": {
        "id": "MLC9enC36dEw",
        "colab": {
          "base_uri": "https://localhost:8080/"
        },
        "outputId": "013ec20f-b3de-409d-9c6a-986393c2184c"
      },
      "execution_count": null,
      "outputs": [
        {
          "output_type": "stream",
          "name": "stdout",
          "text": [
            "<bound method Model.summary of <keras.src.engine.sequential.Sequential object at 0x787987c12050>>\n"
          ]
        }
      ]
    },
    {
      "cell_type": "code",
      "source": [
        "print(\"Shape of xTrain:\", xTrain.shape)\n",
        "print(\"Shape of yTrain:\", yTrain.shape)"
      ],
      "metadata": {
        "colab": {
          "base_uri": "https://localhost:8080/"
        },
        "id": "5cxGePeJ0D4p",
        "outputId": "95c77968-5d06-4716-fc28-990e8a14c61c"
      },
      "execution_count": null,
      "outputs": [
        {
          "output_type": "stream",
          "name": "stdout",
          "text": [
            "Shape of xTrain: (14825822,)\n",
            "Shape of yTrain: (14825822, 1)\n"
          ]
        }
      ]
    },
    {
      "cell_type": "code",
      "source": [
        "yTrain = yTrain.reshape(-1)\n",
        "print(\"New shape of yTrain:\", yTrain.shape)"
      ],
      "metadata": {
        "colab": {
          "base_uri": "https://localhost:8080/"
        },
        "id": "QjcnDJXo0KUI",
        "outputId": "dddba19e-805a-46d4-f64c-7106ba302da9"
      },
      "execution_count": null,
      "outputs": [
        {
          "output_type": "stream",
          "name": "stdout",
          "text": [
            "New shape of yTrain: (14825822,)\n"
          ]
        }
      ]
    },
    {
      "cell_type": "code",
      "source": [
        "print(\"Shape of xTrain:\", xTrain.shape)\n",
        "print(\"Shape of xTest:\", xTest.shape)"
      ],
      "metadata": {
        "colab": {
          "base_uri": "https://localhost:8080/"
        },
        "id": "mq2wmx9T0Wrn",
        "outputId": "5cc0d221-9f59-4ef8-8e44-f28b6084aa04"
      },
      "execution_count": null,
      "outputs": [
        {
          "output_type": "stream",
          "name": "stdout",
          "text": [
            "Shape of xTrain: (14825822,)\n",
            "Shape of xTest: (9883882,)\n"
          ]
        }
      ]
    }
  ]
}